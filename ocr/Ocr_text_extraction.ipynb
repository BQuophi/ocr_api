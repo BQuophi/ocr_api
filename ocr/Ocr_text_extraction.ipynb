{
 "cells": [
  {
   "cell_type": "markdown",
   "metadata": {},
   "source": [
    "## OCR FOR TEXT EXTRACTION"
   ]
  },
  {
   "cell_type": "markdown",
   "metadata": {},
   "source": [
    "#### Using EasyOCR to Extract Text from Images\n",
    "\n",
    "- Install Easy OCR\n",
    "- Extract text\n",
    "- Display results using OpenCV and Matplotlib\n",
    "\n",
    "EasyOCR is powered by pytorch, a deep learning library"
   ]
  },
  {
   "cell_type": "markdown",
   "metadata": {},
   "source": [
    "##### Install Dependencies"
   ]
  },
  {
   "cell_type": "code",
   "execution_count": 2,
   "metadata": {},
   "outputs": [
    {
     "name": "stdout",
     "output_type": "stream",
     "text": [
      "Collecting torch\n",
      "  Downloading torch-1.13.0-cp38-cp38-win_amd64.whl (167.3 MB)\n",
      "Collecting torchvision\n",
      "  Using cached torchvision-0.14.0-cp38-cp38-win_amd64.whl (1.1 MB)\n",
      "Collecting torchaudio\n",
      "  Downloading torchaudio-0.13.0-cp38-cp38-win_amd64.whl (2.1 MB)\n",
      "Requirement already satisfied: typing-extensions in c:\\users\\toluo\\anaconda3\\lib\\site-packages (from torch) (3.7.4.3)\n",
      "Requirement already satisfied: pillow!=8.3.*,>=5.3.0 in c:\\users\\toluo\\anaconda3\\lib\\site-packages (from torchvision) (8.0.1)\n",
      "Requirement already satisfied: numpy in c:\\users\\toluo\\anaconda3\\lib\\site-packages (from torchvision) (1.19.2)\n",
      "Requirement already satisfied: requests in c:\\users\\toluo\\anaconda3\\lib\\site-packages (from torchvision) (2.24.0)\n",
      "Requirement already satisfied: certifi>=2017.4.17 in c:\\users\\toluo\\anaconda3\\lib\\site-packages (from requests->torchvision) (2020.6.20)\n",
      "Requirement already satisfied: idna<3,>=2.5 in c:\\users\\toluo\\anaconda3\\lib\\site-packages (from requests->torchvision) (2.10)\n",
      "Requirement already satisfied: urllib3!=1.25.0,!=1.25.1,<1.26,>=1.21.1 in c:\\users\\toluo\\anaconda3\\lib\\site-packages (from requests->torchvision) (1.25.11)\n",
      "Requirement already satisfied: chardet<4,>=3.0.2 in c:\\users\\toluo\\anaconda3\\lib\\site-packages (from requests->torchvision) (3.0.4)\n",
      "Installing collected packages: torch, torchvision, torchaudio\n",
      "Successfully installed torch-1.13.0 torchaudio-0.13.0 torchvision-0.14.0\n",
      "Collecting torch\n",
      "  Downloading torch-1.13.0-cp38-cp38-win_amd64.whl (167.3 MB)\n",
      "Collecting torchvision\n",
      "  Using cached torchvision-0.14.0-cp38-cp38-win_amd64.whl (1.1 MB)\n",
      "Collecting torchaudio\n",
      "  Using cached torchaudio-0.13.0-cp38-cp38-win_amd64.whl (2.1 MB)\n",
      "Requirement already satisfied: typing-extensions in c:\\users\\toluo\\anaconda3\\lib\\site-packages (from torch) (3.7.4.3)\n",
      "Requirement already satisfied: numpy in c:\\users\\toluo\\anaconda3\\lib\\site-packages (from torchvision) (1.19.2)\n",
      "Requirement already satisfied: pillow!=8.3.*,>=5.3.0 in c:\\users\\toluo\\anaconda3\\lib\\site-packages (from torchvision) (8.0.1)\n",
      "Requirement already satisfied: requests in c:\\users\\toluo\\anaconda3\\lib\\site-packages (from torchvision) (2.24.0)\n",
      "Requirement already satisfied: urllib3!=1.25.0,!=1.25.1,<1.26,>=1.21.1 in c:\\users\\toluo\\anaconda3\\lib\\site-packages (from requests->torchvision) (1.25.11)\n",
      "Requirement already satisfied: certifi>=2017.4.17 in c:\\users\\toluo\\anaconda3\\lib\\site-packages (from requests->torchvision) (2020.6.20)\n",
      "Requirement already satisfied: chardet<4,>=3.0.2 in c:\\users\\toluo\\anaconda3\\lib\\site-packages (from requests->torchvision) (3.0.4)\n",
      "Requirement already satisfied: idna<3,>=2.5 in c:\\users\\toluo\\anaconda3\\lib\\site-packages (from requests->torchvision) (2.10)\n",
      "Installing collected packages: torch, torchvision, torchaudio\n",
      "Successfully installed torch-1.13.0 torchaudio-0.13.0 torchvision-0.14.0\n",
      "Collecting easyocr\n",
      "  Downloading easyocr-1.6.2-py3-none-any.whl (2.9 MB)\n",
      "Requirement already satisfied: scipy in c:\\users\\toluo\\anaconda3\\lib\\site-packages (from easyocr) (1.5.2)\n",
      "Collecting pyclipper\n",
      "  Downloading pyclipper-1.3.0.post4-cp38-cp38-win_amd64.whl (95 kB)\n",
      "Collecting torchvision>=0.5\n",
      "  Downloading torchvision-0.14.0-cp38-cp38-win_amd64.whl (1.1 MB)\n",
      "Requirement already satisfied: scikit-image in c:\\users\\toluo\\anaconda3\\lib\\site-packages (from easyocr) (0.17.2)\n",
      "Collecting Shapely\n",
      "  Downloading Shapely-1.8.5.post1-cp38-cp38-win_amd64.whl (1.3 MB)\n",
      "Collecting torch\n",
      "  Downloading torch-1.13.0-cp38-cp38-win_amd64.whl (167.3 MB)\n",
      "Requirement already satisfied: Pillow in c:\\users\\toluo\\anaconda3\\lib\\site-packages (from easyocr) (8.0.1)\n",
      "Collecting opencv-python-headless<=4.5.4.60\n",
      "  Downloading opencv_python_headless-4.5.4.60-cp38-cp38-win_amd64.whl (35.0 MB)\n",
      "Collecting ninja\n",
      "  Using cached ninja-1.11.1-py2.py3-none-win_amd64.whl (313 kB)\n",
      "Collecting python-bidi\n",
      "  Downloading python_bidi-0.4.2-py2.py3-none-any.whl (30 kB)\n",
      "Requirement already satisfied: PyYAML in c:\\users\\toluo\\anaconda3\\lib\\site-packages (from easyocr) (5.3.1)\n",
      "Requirement already satisfied: numpy in c:\\users\\toluo\\anaconda3\\lib\\site-packages (from easyocr) (1.19.2)\n",
      "Requirement already satisfied: requests in c:\\users\\toluo\\anaconda3\\lib\\site-packages (from torchvision>=0.5->easyocr) (2.24.0)\n",
      "Requirement already satisfied: typing-extensions in c:\\users\\toluo\\anaconda3\\lib\\site-packages (from torchvision>=0.5->easyocr) (3.7.4.3)\n",
      "Requirement already satisfied: matplotlib!=3.0.0,>=2.0.0 in c:\\users\\toluo\\anaconda3\\lib\\site-packages (from scikit-image->easyocr) (3.3.2)\n",
      "Requirement already satisfied: networkx>=2.0 in c:\\users\\toluo\\anaconda3\\lib\\site-packages (from scikit-image->easyocr) (2.5)\n",
      "Requirement already satisfied: imageio>=2.3.0 in c:\\users\\toluo\\anaconda3\\lib\\site-packages (from scikit-image->easyocr) (2.9.0)\n",
      "Requirement already satisfied: tifffile>=2019.7.26 in c:\\users\\toluo\\anaconda3\\lib\\site-packages (from scikit-image->easyocr) (2020.10.1)\n",
      "Requirement already satisfied: PyWavelets>=1.1.1 in c:\\users\\toluo\\anaconda3\\lib\\site-packages (from scikit-image->easyocr) (1.1.1)\n",
      "Requirement already satisfied: six in c:\\users\\toluo\\anaconda3\\lib\\site-packages (from python-bidi->easyocr) (1.15.0)\n",
      "Requirement already satisfied: idna<3,>=2.5 in c:\\users\\toluo\\anaconda3\\lib\\site-packages (from requests->torchvision>=0.5->easyocr) (2.10)\n",
      "Requirement already satisfied: urllib3!=1.25.0,!=1.25.1,<1.26,>=1.21.1 in c:\\users\\toluo\\anaconda3\\lib\\site-packages (from requests->torchvision>=0.5->easyocr) (1.25.11)\n",
      "Requirement already satisfied: certifi>=2017.4.17 in c:\\users\\toluo\\anaconda3\\lib\\site-packages (from requests->torchvision>=0.5->easyocr) (2020.6.20)\n",
      "Requirement already satisfied: chardet<4,>=3.0.2 in c:\\users\\toluo\\anaconda3\\lib\\site-packages (from requests->torchvision>=0.5->easyocr) (3.0.4)\n",
      "Requirement already satisfied: cycler>=0.10 in c:\\users\\toluo\\anaconda3\\lib\\site-packages (from matplotlib!=3.0.0,>=2.0.0->scikit-image->easyocr) (0.10.0)\n",
      "Requirement already satisfied: pyparsing!=2.0.4,!=2.1.2,!=2.1.6,>=2.0.3 in c:\\users\\toluo\\anaconda3\\lib\\site-packages (from matplotlib!=3.0.0,>=2.0.0->scikit-image->easyocr) (2.4.7)\n",
      "Requirement already satisfied: python-dateutil>=2.1 in c:\\users\\toluo\\anaconda3\\lib\\site-packages (from matplotlib!=3.0.0,>=2.0.0->scikit-image->easyocr) (2.8.1)\n",
      "Requirement already satisfied: kiwisolver>=1.0.1 in c:\\users\\toluo\\anaconda3\\lib\\site-packages (from matplotlib!=3.0.0,>=2.0.0->scikit-image->easyocr) (1.3.0)\n",
      "Requirement already satisfied: decorator>=4.3.0 in c:\\users\\toluo\\anaconda3\\lib\\site-packages (from networkx>=2.0->scikit-image->easyocr) (4.4.2)\n",
      "Installing collected packages: pyclipper, torch, torchvision, Shapely, opencv-python-headless, ninja, python-bidi, easyocr\n",
      "Successfully installed Shapely-1.8.5.post1 easyocr-1.6.2 ninja-1.11.1 opencv-python-headless-4.5.4.60 pyclipper-1.3.0.post4 python-bidi-0.4.2 torch-1.13.0 torchvision-0.14.0\n",
      "Collecting easyocr"
     ]
    },
    {
     "name": "stderr",
     "output_type": "stream",
     "text": [
      "WARNING: Retrying (Retry(total=4, connect=None, read=None, redirect=None, status=None)) after connection broken by 'ProtocolError('Connection aborted.', ConnectionResetError(10054, 'An existing connection was forcibly closed by the remote host', None, 10054, None))': /simple/python-bidi/\n"
     ]
    },
    {
     "name": "stdout",
     "output_type": "stream",
     "text": [
      "\n",
      "  Using cached easyocr-1.6.2-py3-none-any.whl (2.9 MB)\n",
      "Collecting ninja\n",
      "  Downloading ninja-1.11.1-py2.py3-none-win_amd64.whl (313 kB)\n",
      "Collecting pyclipper\n",
      "  Using cached pyclipper-1.3.0.post4-cp38-cp38-win_amd64.whl (95 kB)\n",
      "Collecting Shapely\n",
      "  Using cached Shapely-1.8.5.post1-cp38-cp38-win_amd64.whl (1.3 MB)\n",
      "Requirement already satisfied: numpy in c:\\users\\toluo\\anaconda3\\lib\\site-packages (from easyocr) (1.19.2)\n",
      "Requirement already satisfied: scipy in c:\\users\\toluo\\anaconda3\\lib\\site-packages (from easyocr) (1.5.2)\n",
      "Requirement already satisfied: Pillow in c:\\users\\toluo\\anaconda3\\lib\\site-packages (from easyocr) (8.0.1)\n",
      "Collecting opencv-python-headless<=4.5.4.60\n",
      "  Downloading opencv_python_headless-4.5.4.60-cp38-cp38-win_amd64.whl (35.0 MB)\n",
      "Requirement already satisfied: torch in c:\\users\\toluo\\anaconda3\\lib\\site-packages (from easyocr) (1.13.0)\n",
      "Requirement already satisfied: PyYAML in c:\\users\\toluo\\anaconda3\\lib\\site-packages (from easyocr) (5.3.1)\n",
      "Requirement already satisfied: scikit-image in c:\\users\\toluo\\anaconda3\\lib\\site-packages (from easyocr) (0.17.2)\n",
      "Requirement already satisfied: torchvision>=0.5 in c:\\users\\toluo\\anaconda3\\lib\\site-packages (from easyocr) (0.14.0)\n",
      "Collecting python-bidi\n",
      "  Using cached python_bidi-0.4.2-py2.py3-none-any.whl (30 kB)\n",
      "Requirement already satisfied: typing-extensions in c:\\users\\toluo\\anaconda3\\lib\\site-packages (from torch->easyocr) (3.7.4.3)\n",
      "Requirement already satisfied: matplotlib!=3.0.0,>=2.0.0 in c:\\users\\toluo\\anaconda3\\lib\\site-packages (from scikit-image->easyocr) (3.3.2)\n",
      "Requirement already satisfied: networkx>=2.0 in c:\\users\\toluo\\anaconda3\\lib\\site-packages (from scikit-image->easyocr) (2.5)\n",
      "Requirement already satisfied: imageio>=2.3.0 in c:\\users\\toluo\\anaconda3\\lib\\site-packages (from scikit-image->easyocr) (2.9.0)\n",
      "Requirement already satisfied: tifffile>=2019.7.26 in c:\\users\\toluo\\anaconda3\\lib\\site-packages (from scikit-image->easyocr) (2020.10.1)\n",
      "Requirement already satisfied: PyWavelets>=1.1.1 in c:\\users\\toluo\\anaconda3\\lib\\site-packages (from scikit-image->easyocr) (1.1.1)\n",
      "Requirement already satisfied: requests in c:\\users\\toluo\\anaconda3\\lib\\site-packages (from torchvision>=0.5->easyocr) (2.24.0)\n",
      "Requirement already satisfied: six in c:\\users\\toluo\\anaconda3\\lib\\site-packages (from python-bidi->easyocr) (1.15.0)\n",
      "Requirement already satisfied: certifi>=2020.06.20 in c:\\users\\toluo\\anaconda3\\lib\\site-packages (from matplotlib!=3.0.0,>=2.0.0->scikit-image->easyocr) (2020.6.20)\n",
      "Requirement already satisfied: cycler>=0.10 in c:\\users\\toluo\\anaconda3\\lib\\site-packages (from matplotlib!=3.0.0,>=2.0.0->scikit-image->easyocr) (0.10.0)\n",
      "Requirement already satisfied: python-dateutil>=2.1 in c:\\users\\toluo\\anaconda3\\lib\\site-packages (from matplotlib!=3.0.0,>=2.0.0->scikit-image->easyocr) (2.8.1)\n",
      "Requirement already satisfied: pyparsing!=2.0.4,!=2.1.2,!=2.1.6,>=2.0.3 in c:\\users\\toluo\\anaconda3\\lib\\site-packages (from matplotlib!=3.0.0,>=2.0.0->scikit-image->easyocr) (2.4.7)\n",
      "Requirement already satisfied: kiwisolver>=1.0.1 in c:\\users\\toluo\\anaconda3\\lib\\site-packages (from matplotlib!=3.0.0,>=2.0.0->scikit-image->easyocr) (1.3.0)\n",
      "Requirement already satisfied: decorator>=4.3.0 in c:\\users\\toluo\\anaconda3\\lib\\site-packages (from networkx>=2.0->scikit-image->easyocr) (4.4.2)\n",
      "Requirement already satisfied: idna<3,>=2.5 in c:\\users\\toluo\\anaconda3\\lib\\site-packages (from requests->torchvision>=0.5->easyocr) (2.10)\n",
      "Requirement already satisfied: urllib3!=1.25.0,!=1.25.1,<1.26,>=1.21.1 in c:\\users\\toluo\\anaconda3\\lib\\site-packages (from requests->torchvision>=0.5->easyocr) (1.25.11)\n",
      "Requirement already satisfied: chardet<4,>=3.0.2 in c:\\users\\toluo\\anaconda3\\lib\\site-packages (from requests->torchvision>=0.5->easyocr) (3.0.4)\n",
      "Installing collected packages: ninja, pyclipper, Shapely, opencv-python-headless, python-bidi, easyocr\n",
      "Successfully installed Shapely-1.8.5.post1 easyocr-1.6.2 ninja-1.11.1 opencv-python-headless-4.5.4.60 pyclipper-1.3.0.post4 python-bidi-0.4.2\n"
     ]
    }
   ],
   "source": [
    "!pip install torch torchvision torchaudio\n",
    "!pip install easyocr"
   ]
  },
  {
   "cell_type": "code",
   "execution_count": null,
   "metadata": {},
   "outputs": [],
   "source": [
    "# Dependencies\n",
    "!pip install \"paddleocr>=2.0.1\"\n",
    "!python3 -m pip install paddlepaddle -i https://mirror.baidu.com/pypi/simple\n",
    "!pip install fastapi uvicorn[standard]\n",
    "!pip install httpie\n",
    "!pip install python-multipart"
   ]
  },
  {
   "cell_type": "code",
   "execution_count": null,
   "metadata": {},
   "outputs": [],
   "source": [
    "# Import necesary libraries\n",
    "import easyocr\n",
    "import cv2\n",
    "import matplotlib.pyplot as plt\n",
    "import numpy as np\n"
   ]
  },
  {
   "cell_type": "code",
   "execution_count": null,
   "metadata": {},
   "outputs": [],
   "source": [
    "##### Read in the test image\n",
    "\n",
    "image_path = 'test_img1.jpg'\n",
    "\n",
    "reader = easyocr.Reader(['en'], gpu=False)\n",
    "result = reader.readtext(image_path)\n",
    "result"
   ]
  },
  {
   "cell_type": "code",
   "execution_count": null,
   "metadata": {},
   "outputs": [],
   "source": [
    "##### Draw Results\n",
    "top_left = tuple(result[0][0][0])\n",
    "bottom_right = tuple(result[0][0][2])\n",
    "text = result[0][1]\n",
    "font = cv2.FONT_HERSHEY_SIMPLEX"
   ]
  }
 ],
 "metadata": {
  "kernelspec": {
   "display_name": "Python 3",
   "language": "python",
   "name": "python3"
  },
  "language_info": {
   "codemirror_mode": {
    "name": "ipython",
    "version": 3
   },
   "file_extension": ".py",
   "mimetype": "text/x-python",
   "name": "python",
   "nbconvert_exporter": "python",
   "pygments_lexer": "ipython3",
   "version": "3.8.5"
  }
 },
 "nbformat": 4,
 "nbformat_minor": 4
}
